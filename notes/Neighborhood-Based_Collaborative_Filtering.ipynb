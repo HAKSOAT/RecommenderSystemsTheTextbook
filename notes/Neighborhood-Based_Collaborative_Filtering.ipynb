{
 "cells": [
  {
   "cell_type": "code",
   "execution_count": 15,
   "id": "3dc238ab-35d3-472d-8448-7b6a9869ed05",
   "metadata": {},
   "outputs": [],
   "source": [
    "import os\n",
    "import json\n",
    "import numpy as np\n",
    "from scipy.sparse import csr_matrix"
   ]
  },
  {
   "cell_type": "code",
   "execution_count": 16,
   "id": "76c8bb6f-38d5-4253-970e-ca4ffd1dd752",
   "metadata": {},
   "outputs": [],
   "source": [
    "with open(\"../datasets/ecom_ratings/customers.json\") as f_:\n",
    "    customers = json.load(f_)\n",
    "    \n",
    "with open(\"../datasets/ecom_ratings/products.json\") as f_:\n",
    "    products = json.load(f_)\n",
    "    \n",
    "with open(\"../datasets/ecom_ratings/ratings.json\") as f_:\n",
    "    ratings = json.load(f_)"
   ]
  },
  {
   "cell_type": "code",
   "execution_count": 17,
   "id": "e9bda605-2967-4225-84e9-f8ee680de3c1",
   "metadata": {},
   "outputs": [],
   "source": [
    "product_id_to_idx = {\n",
    "    product['Id']: idx\n",
    "    for idx, product in enumerate(products)\n",
    "}\n",
    "\n",
    "customer_id_to_idx = {\n",
    "    customer['Id']: idx\n",
    "    for idx, customer in enumerate(customers)\n",
    "}"
   ]
  },
  {
   "cell_type": "code",
   "execution_count": 19,
   "id": "e850276d-1fea-4427-9cfe-e60ecf06342c",
   "metadata": {},
   "outputs": [],
   "source": [
    "def generate_matrix():\n",
    "    customer_data = []\n",
    "    product_data = []\n",
    "    rating_data = []\n",
    "\n",
    "    for rating in ratings:\n",
    "        rating_data.append(rating['Rate'])    \n",
    "        customer_data.append(customer_id_to_idx[rating['CustomerID']])\n",
    "        product_data.append(product_id_to_idx[rating['ProductID']])\n",
    "        \n",
    "    matrix = csr_matrix((rating_data, (customer_data, product_data)), \n",
    "                        shape=(len(customers), len(products))).toarray()\n",
    "    return matrix"
   ]
  },
  {
   "cell_type": "code",
   "execution_count": 20,
   "id": "ccaba6a9-dbf5-402a-b4bf-3acec1e6df4e",
   "metadata": {},
   "outputs": [],
   "source": [
    "ratings_matrix = generate_matrix()"
   ]
  },
  {
   "cell_type": "code",
   "execution_count": 13,
   "id": "30d871a8-2153-49e0-803b-649a30f9e30b",
   "metadata": {},
   "outputs": [],
   "source": [
    "# The end goal is often either to:\n",
    "# 1. Predict a user's rating value of an item\n",
    "# 2. Predict the top-k items\n",
    "\n",
    "# Important to note that the first goal can be used to produce the second goal, albeit being less efficient."
   ]
  },
  {
   "cell_type": "markdown",
   "id": "fdb50a3b-ac28-43cd-afdc-aa926a91f72c",
   "metadata": {},
   "source": [
    "# User-based collaborative filtering"
   ]
  },
  {
   "cell_type": "markdown",
   "id": "2273a8f7-2335-478d-a87d-5cc836fa2367",
   "metadata": {},
   "source": [
    "The ratings provided by similar users to a target user are used to make recommendations for that user. The weighted average values of those similar users on an item k is used as the predicted rating for the target user on that item k."
   ]
  },
  {
   "cell_type": "markdown",
   "id": "204443b3-dfcb-4104-b3ab-6eb2b4f992c0",
   "metadata": {},
   "source": [
    "### Issues\n",
    "\n",
    "1. Users may have different scales as one user may be biased towards liking most items and another user may be biased towards not liking at all.\n",
    "2. Users may have liked different items.\n",
    "\n",
    "To fix issue two, you take an intersection of the set of items liked by both users and use this to calculate similarity."
   ]
  },
  {
   "cell_type": "markdown",
   "id": "663c0bee-1e89-4183-b8f9-ce961cfc0137",
   "metadata": {},
   "source": [
    "### Finding similar users using Pearson correlation coefficient.\n",
    "\n",
    "The similarity metric uses items that have been rated by the target users and potential similar users as a vector.\n",
    "\n",
    "(1)\n",
    "$$ \n",
    "µ_{u} = \\frac{\\sum_{k∈I_u} r_{uk}}{|I_u|}\n",
    "$$\n",
    "\n",
    "\n",
    "(1.1)\n",
    "$$ \n",
    "Sim(u, v) = Pearson(u,v) = \\frac{\\sum_{k∈I_{u}∩I_{v}}(r_{uk} - µ_u) * (r_{vk} - µ_v)}{\\sqrt{\\sum_{k∈I_{u}∩I_{v}}(r_{uk} - µ_u)^2} * \\sqrt{\\sum_{k∈I_{u}∩I_{v}}(r_{vk} - µ_v)^2}}\n",
    "$$\n",
    "\n",
    "\n",
    "(1.2)\n",
    "$$ \n",
    "Sim(u, v) = Cosine(u,v) = \\frac{\\sum_{k∈I_{u}∩I_{v}}r_{uk} * r_{vk}}{\\sqrt{\\sum_{k∈I_{u}∩I_{v}}{r_{uk}}^2} * \\sqrt{\\sum_{k∈I_{u}∩I_{v}}{r_{vk}}^2}}\n",
    "$$\n",
    "\n",
    "\n",
    "Where:\n",
    "\n",
    "$I_u$ is the set of items rated by user u.\n",
    "\n",
    "$r_{uk}$ is the rating a user u gives to an item k.\n",
    "\n",
    "$µ_{u}$ is the mean of the ratings for user u.\n",
    "\n",
    "The replacement of u with v in the variables above translates to the user v.\n",
    "\n",
    "### Cosine and Pearson Correlation\n",
    "\n",
    "Cosine similarity checks for the angular difference between two vectors in relation to the origin. This means that vectors [1, 1, 1, 1] (let's call it A) and [500, 500, 500, 500] (let's call it B) will have an angle of 0 despite having different magnitudes. Pearson correlation checks for a linear relationship between two datasets (in this case vectors A and vectors B are considered different distributions rather than a single). For example, if an increase in a variable in dataset a also leads to an increase in its corresponding item in dataset b, that can be considered to be a positive correlation. This concept of correlation can then be transferred to check the similarity between two vectors. Since Pearson correlation can be used to check for the relationship between two vectors, it is more discriminative compared to cosine similarity.\n",
    "\n",
    "References: https://blogs.sas.com/content/iml/2019/09/03/cosine-similarity.html, https://stats.stackexchange.com/questions/235673/is-there-any-relationship-among-cosine-similarity-pearson-correlation-and-z-sc, https://www.geeksforgeeks.org/python-pearson-correlation-test-between-two-variables/, https://leimao.github.io/blog/Cosine-Similarity-VS-Pearson-Correlation-Coefficient/\n",
    "\n",
    "\n",
    "### Question on calculating the mean of ratings...\n",
    "\n",
    "Since we are using the intersection of items rated between users. Should we not use then intersection as well when calculating the mean of a ratings for user u instead of using all of the items rated?\n",
    "\n",
    "#### Answer...\n",
    "\n",
    "1. It can be computationally expensive to calculate mean for each user u and v combination.\n",
    "2. It is hard to argue that the approach of using the intersection being better than using all the items or vice-versa.\n",
    "3. In cases where the intersection between two users is only 1 item, the similarity metric will fail because the part of eqn (1.1) that says $ (r_{uk} - µ_u) $ as that will yield zero.\n",
    "\n",
    "\n",
    "### Predicting Ratings\n",
    "\n",
    "To predict a target user's rating of an item, we rely on the ratings from other users and amplify or attenuate the impact of a rating from those users based on the similarity between them and the target user."
   ]
  },
  {
   "cell_type": "code",
   "execution_count": null,
   "id": "71137368-034f-47b7-9e92-be53e67868eb",
   "metadata": {},
   "outputs": [],
   "source": [
    "def get_user_vector(id_):\n",
    "    pass"
   ]
  },
  {
   "cell_type": "code",
   "execution_count": null,
   "id": "16bce980-2676-4fc9-afa1-c8942324a680",
   "metadata": {},
   "outputs": [],
   "source": [
    "def cos_sim(u_id, v_id, matrix):\n",
    "    pass"
   ]
  },
  {
   "cell_type": "markdown",
   "id": "c38c88ca-f2b0-45e2-81d4-3be0083350e1",
   "metadata": {},
   "source": [
    "# Item-based collaborative filtering"
   ]
  },
  {
   "cell_type": "markdown",
   "id": "95b8171f-f9ba-48f2-8495-35d6582c7c08",
   "metadata": {},
   "source": [
    "The items similar to a target item are retrieved. Then the user's ratings on those similar items extracted with their weighted average calculated. This calculated average becomes the predicted rating for that item."
   ]
  },
  {
   "cell_type": "code",
   "execution_count": null,
   "id": "583079fa-5856-49ac-988a-7c58a7cf3103",
   "metadata": {},
   "outputs": [],
   "source": []
  }
 ],
 "metadata": {
  "kernelspec": {
   "display_name": "Python 3 (ipykernel)",
   "language": "python",
   "name": "python3"
  },
  "language_info": {
   "codemirror_mode": {
    "name": "ipython",
    "version": 3
   },
   "file_extension": ".py",
   "mimetype": "text/x-python",
   "name": "python",
   "nbconvert_exporter": "python",
   "pygments_lexer": "ipython3",
   "version": "3.7.1"
  }
 },
 "nbformat": 4,
 "nbformat_minor": 5
}
